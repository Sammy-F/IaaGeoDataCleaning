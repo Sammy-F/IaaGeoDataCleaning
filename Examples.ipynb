{
 "cells": [
  {
   "cell_type": "code",
   "execution_count": null,
   "metadata": {},
   "outputs": [],
   "source": [
    "from library.CleaningUtils.experiment import GeocodeValidator\n",
    "import os\n",
    "\n",
    "cwd = os.getcwd()\n",
    "\n",
    "gv = GeocodeValidator()\n",
    "mf = gv.process_shapefile(str(os.path.normpath(os.path.join(cwd, 'resources', 'mapinfo'))))\n",
    "shp = gv.get_shape(mf['shp'])\n",
    "prj = gv.get_projection(mf['prj'])\n",
    "print('removing coords')\n",
    "filtered = gv.filter_data_without_coords(str(os.path.normpath(os.path.join(cwd, 'resources', 'xlsx', 'tblLocation.xlsx'))),\n",
    "                                         'Latitude', 'Longitude')\n",
    "with_coords = filtered[0]\n",
    "print('adding cc')\n",
    "with_cc = gv.add_country_code(with_coords, 'Country')\n",
    "\n",
    "print('flipping')\n",
    "data_dict = gv.flip_coords(with_cc, 'Latitude', 'Longitude', prj)\n",
    "\n",
    "print('checking')\n",
    "\n",
    "# 10-13 seconds version\n",
    "print('geocoding')\n",
    "\n",
    "res = gv.check_multiple('Location', data_dict, shp)\n",
    "pending = res[1].append(filtered[1])\n",
    "\n",
    "gv.geocode_locations(pending, 'Location', 'Country')\n"
   ]
  }
 ],
 "metadata": {
  "kernelspec": {
   "display_name": "virtual353",
   "language": "python",
   "name": "virtual353"
  },
  "language_info": {
   "codemirror_mode": {
    "name": "ipython",
    "version": 3
   },
   "file_extension": ".py",
   "mimetype": "text/x-python",
   "name": "python",
   "nbconvert_exporter": "python",
   "pygments_lexer": "ipython3",
   "version": "3.5.3"
  }
 },
 "nbformat": 4,
 "nbformat_minor": 2
}
