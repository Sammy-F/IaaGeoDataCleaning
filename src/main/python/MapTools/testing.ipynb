{
 "cells": [
  {
   "cell_type": "code",
   "execution_count": null,
   "metadata": {
    "collapsed": true
   },
   "outputs": [],
   "source": [
    "from sammyexperiment import MapUtils\n",
    "\n",
    "mu = MapUtils('D:\\\\PyCharm Projects\\\\IaaGeoDataCleaning\\\\resources\\\\csv\\\\verified_data_2018-06-20.csv')\n",
    "mu.generate_map()\n",
    "mu.markAllGeocoded()"
   ]
  }
 ],
 "metadata": {
  "kernelspec": {
   "display_name": "Python 2",
   "language": "python",
   "name": "python2"
  },
  "language_info": {
   "codemirror_mode": {
    "name": "ipython",
    "version": 2
   },
   "file_extension": ".py",
   "mimetype": "text/x-python",
   "name": "python",
   "nbconvert_exporter": "python",
   "pygments_lexer": "ipython2",
   "version": "2.7.6"
  }
 },
 "nbformat": 4,
 "nbformat_minor": 0
}
